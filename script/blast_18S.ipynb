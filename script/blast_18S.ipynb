{
 "cells": [
  {
   "cell_type": "code",
   "execution_count": null,
   "metadata": {},
   "outputs": [],
   "source": [
    "#!/bin/env/python3\n",
    "import os\n",
    "import glob\n",
    "#this script takes in the Fastq files, runs blast on them and then writes the outputs in the txt files\n",
    "for file in glob.glob('*.fq'):\n",
    "    new = file.rsplit('.',1)[0] + '.txt'\n",
    "    filename = '/opt/data/johny/blast_dir/18S/18S_fungal-sequences.ndb'\n",
    "\n",
    "    blast = \"blastn \" + \"-db \" + filename  + \" -query \" + file + \" -out \" + new\n",
    "    os.system (blast)"
   ]
  }
 ],
 "metadata": {
  "kernelspec": {
   "display_name": "Python 3",
   "language": "python",
   "name": "python3"
  },
  "language_info": {
   "codemirror_mode": {
    "name": "ipython",
    "version": 3
   },
   "file_extension": ".py",
   "mimetype": "text/x-python",
   "name": "python",
   "nbconvert_exporter": "python",
   "pygments_lexer": "ipython3",
   "version": "3.6.5"
  }
 },
 "nbformat": 4,
 "nbformat_minor": 2
}
